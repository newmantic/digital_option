{
  "nbformat": 4,
  "nbformat_minor": 0,
  "metadata": {
    "colab": {
      "provenance": [],
      "authorship_tag": "ABX9TyMotJCNc1mTNVyIlUIX8ujJ",
      "include_colab_link": true
    },
    "kernelspec": {
      "name": "python3",
      "display_name": "Python 3"
    },
    "language_info": {
      "name": "python"
    }
  },
  "cells": [
    {
      "cell_type": "markdown",
      "metadata": {
        "id": "view-in-github",
        "colab_type": "text"
      },
      "source": [
        "<a href=\"https://colab.research.google.com/github/newmantic/digital_option/blob/main/digital_option.ipynb\" target=\"_parent\"><img src=\"https://colab.research.google.com/assets/colab-badge.svg\" alt=\"Open In Colab\"/></a>"
      ]
    },
    {
      "cell_type": "code",
      "execution_count": 1,
      "metadata": {
        "colab": {
          "base_uri": "https://localhost:8080/"
        },
        "id": "MDvAbO_oc4GX",
        "outputId": "b17b1e7c-3e5b-46b3-c9c4-0f8bcd478c82"
      },
      "outputs": [
        {
          "output_type": "stream",
          "name": "stdout",
          "text": [
            "Payoff for Cash-or-Nothing Call: 10.00\n",
            "Payoff for Asset-or-Nothing Put: 105.00\n"
          ]
        }
      ],
      "source": [
        "class DigitalOption:\n",
        "    def __init__(self, option_type, strike_price, underlying_price, payout, option_style='cash', is_call=True):\n",
        "        \"\"\"\n",
        "        Initializes the Digital Option.\n",
        "\n",
        "        :param option_type: 'cash' for Cash-or-Nothing, 'asset' for Asset-or-Nothing\n",
        "        :param strike_price: The strike price of the option\n",
        "        :param underlying_price: The current price of the underlying asset\n",
        "        :param payout: The fixed payout if the option is in-the-money\n",
        "        :param option_style: 'cash' or 'asset'\n",
        "        :param is_call: True for Call option, False for Put option\n",
        "        \"\"\"\n",
        "        self.option_type = option_type\n",
        "        self.strike_price = strike_price\n",
        "        self.underlying_price = underlying_price\n",
        "        self.payout = payout\n",
        "        self.is_call = is_call\n",
        "\n",
        "    def calculate_payoff(self):\n",
        "        \"\"\"\n",
        "        Calculates the payoff of the digital option.\n",
        "\n",
        "        :return: The payoff amount\n",
        "        \"\"\"\n",
        "        if self.is_call:\n",
        "            if self.underlying_price > self.strike_price:\n",
        "                return self._payoff()\n",
        "            else:\n",
        "                return 0.0\n",
        "        else:\n",
        "            if self.underlying_price < self.strike_price:\n",
        "                return self._payoff()\n",
        "            else:\n",
        "                return 0.0\n",
        "\n",
        "    def _payoff(self):\n",
        "        \"\"\"\n",
        "        Returns the payoff based on the option type.\n",
        "\n",
        "        :return: The payoff amount\n",
        "        \"\"\"\n",
        "        if self.option_type == 'cash':\n",
        "            return self.payout\n",
        "        elif self.option_type == 'asset':\n",
        "            return self.underlying_price\n",
        "        else:\n",
        "            raise ValueError(\"Invalid option type. Use 'cash' or 'asset'.\")\n",
        "\n",
        "# Example usage\n",
        "if __name__ == \"__main__\":\n",
        "    # Example 1: Cash-or-Nothing Call Option\n",
        "    option1 = DigitalOption(\n",
        "        option_type='cash',\n",
        "        strike_price=100,\n",
        "        underlying_price=105,\n",
        "        payout=10,\n",
        "        is_call=True\n",
        "    )\n",
        "    payoff1 = option1.calculate_payoff()\n",
        "    print(f\"Payoff for Cash-or-Nothing Call: {payoff1:.2f}\")\n",
        "\n",
        "    # Example 2: Asset-or-Nothing Put Option\n",
        "    option2 = DigitalOption(\n",
        "        option_type='asset',\n",
        "        strike_price=110,\n",
        "        underlying_price=105,\n",
        "        payout=0,  # Payout is the underlying price itself\n",
        "        is_call=False\n",
        "    )\n",
        "    payoff2 = option2.calculate_payoff()\n",
        "    print(f\"Payoff for Asset-or-Nothing Put: {payoff2:.2f}\")\n"
      ]
    }
  ]
}